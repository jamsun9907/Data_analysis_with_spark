{
 "cells": [
  {
   "cell_type": "markdown",
   "id": "c6d26244",
   "metadata": {},
   "source": [
    "PySpark tutorial\n",
    "===\n",
    "이 노트북에서는 Pyspark를 이용하여 SparkSQL을 실습해보기위해 실제 데이터셋을 가지고 데이터 분석을 진행해볼 것이다.<br>\n",
    "목차는 아래와 같다\n",
    "1. 배경 및 목적\n",
    "2. 데이터 불러오기\n",
    "3. EDA\n",
    "4. 분석 및 가설 확인"
   ]
  },
  {
   "cell_type": "markdown",
   "id": "e82e0ebe",
   "metadata": {},
   "source": [
    "## 배경 및 목적\n",
    "### 문제정의\n",
    "- 재구매율을 파악하여 사업모델 유형 파악\n",
    "- Cohort 방식으로 유저의 행동 패턴을 파악하여 리텐션 탐색\n",
    "\n",
    "### 가설\n",
    "- 재구매율은 어떠한가? 몇 % 구간에 위치하는가? 고객의 충성도가 높은가? 혹은 신규고객을 발굴해야하는 유형인가?\n",
    "- 당해년도 이탈률의 추이는 어떠한가? 코호트 별로 나아지고 있는가?\n",
    "\n",
    "#### 세부 정의\n",
    "1. 재구매율\n",
    "- 재구매율은 아래와 같이 정의한다.\n",
    "- 기준 기간은 당해년도를 기준으로 한다.\n",
    "<b>$$재구매율 = \\frac{재구매 고객 수}{전체 구매 고객 수} * 100$$</b>\n",
    "\n",
    "2. 이탈률\n",
    "- 이탈률의 정의는 사업 모델, 서비스 별로 다양하게 나타난다.\n",
    "- 사용자 행동 데이터가 있으므로, 접속 여부를 기준으로 설정할 수 있다. \n",
    "- 사업 모델이 신규고객 확보인지, 고객 충성도 유형인지에 따라 기준 기간은 3일~30일 사이에서 결정할 예정이다."
   ]
  },
  {
   "cell_type": "markdown",
   "id": "cfb0bddf",
   "metadata": {
    "ExecuteTime": {
     "end_time": "2023-03-20T17:13:31.715484Z",
     "start_time": "2023-03-20T17:13:31.706281Z"
    }
   },
   "source": [
    "## 데이터 불러오기\n",
    "데이터는 캐글의 Fashion Campus 데이터를 사용한다. (링크 : https://www.kaggle.com/datasets/latifahhukma/fashion-campus)\n",
    "- 데이터 크기: 4GB"
   ]
  },
  {
   "cell_type": "markdown",
   "id": "f2ebd4ff",
   "metadata": {},
   "source": [
    "### 데이터 확인"
   ]
  },
  {
   "cell_type": "code",
   "execution_count": 3,
   "id": "7b5c32c6",
   "metadata": {
    "ExecuteTime": {
     "end_time": "2023-03-28T04:02:09.312079Z",
     "start_time": "2023-03-28T04:02:04.747402Z"
    }
   },
   "outputs": [],
   "source": [
    "# Creating a spark session\n",
    "from pyspark.sql import SparkSession\n",
    "spark = SparkSession.builder.appName('Spark_tutorial').getOrCreate()"
   ]
  },
  {
   "cell_type": "code",
   "execution_count": 4,
   "id": "cc1c2a46",
   "metadata": {
    "ExecuteTime": {
     "end_time": "2023-03-28T04:02:25.323708Z",
     "start_time": "2023-03-28T04:02:09.323407Z"
    }
   },
   "outputs": [
    {
     "name": "stdout",
     "output_type": "stream",
     "text": [
      "+--------------------+----------+--------------------+--------------------+--------------+--------------+\n",
      "|          session_id|event_name|          event_time|            event_id|traffic_source|event_metadata|\n",
      "+--------------------+----------+--------------------+--------------------+--------------+--------------+\n",
      "|fb0abf9e-fd1a-44d...|  HOMEPAGE|2019-09-06T15:54:...|9c4388c4-c95b-467...|        MOBILE|          null|\n",
      "|fb0abf9e-fd1a-44d...|    SCROLL|2019-09-06T16:03:...|4690e1f5-3f99-42d...|        MOBILE|          null|\n",
      "|7d440441-e67a-4d3...|  HOMEPAGE|2019-09-01T12:05:...|88aeaeb5-ec98-485...|        MOBILE|          null|\n",
      "+--------------------+----------+--------------------+--------------------+--------------+--------------+\n",
      "only showing top 3 rows\n",
      "\n"
     ]
    }
   ],
   "source": [
    "# File path\n",
    "path = r'C:\\Users\\Sunyoung_Jang\\Documents\\1.Dataset\\Fashion_Campus\\\\'\n",
    "file = 'click_stream.csv'\n",
    "\n",
    "# Loading Data\n",
    "df = spark.read.option('header','true').csv(path+file)\n",
    "df.show(3)"
   ]
  },
  {
   "cell_type": "code",
   "execution_count": 5,
   "id": "ee3fc56a",
   "metadata": {
    "ExecuteTime": {
     "end_time": "2023-03-28T04:02:41.443038Z",
     "start_time": "2023-03-28T04:02:25.331486Z"
    }
   },
   "outputs": [
    {
     "name": "stdout",
     "output_type": "stream",
     "text": [
      "# of rows : 12833602\n",
      "\n"
     ]
    }
   ],
   "source": [
    "# Counting the data\n",
    "print(f'# of rows : {df.count()}\\n')"
   ]
  },
  {
   "cell_type": "code",
   "execution_count": 6,
   "id": "6b74637d",
   "metadata": {
    "ExecuteTime": {
     "end_time": "2023-03-28T04:02:41.505590Z",
     "start_time": "2023-03-28T04:02:41.457937Z"
    }
   },
   "outputs": [
    {
     "name": "stdout",
     "output_type": "stream",
     "text": [
      "root\n",
      " |-- session_id: string (nullable = true)\n",
      " |-- event_name: string (nullable = true)\n",
      " |-- event_time: string (nullable = true)\n",
      " |-- event_id: string (nullable = true)\n",
      " |-- traffic_source: string (nullable = true)\n",
      " |-- event_metadata: string (nullable = true)\n",
      "\n"
     ]
    }
   ],
   "source": [
    "# Checking Schema\n",
    "df.printSchema()  # I should've created a schema before loading an data"
   ]
  },
  {
   "cell_type": "markdown",
   "id": "1686c636",
   "metadata": {},
   "source": [
    "### Creating schema\n",
    "csv 데이터를 그냥 읽을 경우 아래와 같이 기본 데이터 타입이 string으로 설정되는 문제가 발생한다. 따라서 스키마를 사전에 정의하고 데이터를 읽어 효율적인 분석이 가능하도록 한다.\n",
    "```\n",
    "root\n",
    " |-- session_id: string (nullable = true)\n",
    " |-- event_name: string (nullable = true)\n",
    " |-- event_time: string (nullable = true)\n",
    " |-- event_id: string (nullable = true)\n",
    " |-- traffic_source: string (nullable = true)\n",
    " |-- event_metadata: string (nullable = true)\n",
    "```\n",
    "\n",
    "**Tip!**<br>\n",
    "미리 스키마를 정의하는 것은 3가지 장점이 있다.<br>\n",
    "\n",
    "* 스파크가 데이터 타입을 추측해야 하는 책임을 덜어준다.\n",
    "* 스파크가 스키마를 확정하기 위해 파일의 많은 부분을 읽어 들이려고 별도의 잡을 만드는 것을 방지한다. 데이터 파일이 큰 경우, 이는 비용과 시간이 많이 드는 작업이다.\n",
    "* 데이터가 스키마와 맞지 않는 경우, 조기에 문제를 발견할 수 있다."
   ]
  },
  {
   "cell_type": "code",
   "execution_count": 7,
   "id": "69eaafeb",
   "metadata": {
    "ExecuteTime": {
     "end_time": "2023-03-28T04:02:41.535963Z",
     "start_time": "2023-03-28T04:02:41.514250Z"
    }
   },
   "outputs": [],
   "source": [
    "# 귀찮으니 함수를 쓰자\n",
    "def load_data(schema, filename):\n",
    "    return spark.read.option('header',True).schema(schema).csv(path+filename)"
   ]
  },
  {
   "cell_type": "markdown",
   "id": "51039a2b",
   "metadata": {},
   "source": [
    "#### click stream\n",
    "- 유저 로그 데이터를 보여준다.\n",
    "- 이벤트 명, 트레픽 소스(모바일, PC 등), 구매 혹은 장바구니에 담았다면 상품명, 결제정보 등이 나타난다. "
   ]
  },
  {
   "cell_type": "code",
   "execution_count": 8,
   "id": "b10b6edb",
   "metadata": {
    "ExecuteTime": {
     "end_time": "2023-03-28T04:02:52.229393Z",
     "start_time": "2023-03-28T04:02:41.543464Z"
    }
   },
   "outputs": [
    {
     "name": "stdout",
     "output_type": "stream",
     "text": [
      "root\n",
      " |-- session_id: string (nullable = true)\n",
      " |-- event_name: string (nullable = true)\n",
      " |-- event_time: timestamp (nullable = true)\n",
      " |-- event_id: string (nullable = true)\n",
      " |-- traffic_source: string (nullable = true)\n",
      " |-- product_id: string (nullable = true)\n",
      " |-- quantity: integer (nullable = true)\n",
      " |-- item_price: integer (nullable = true)\n",
      " |-- payment_status: string (nullable = true)\n",
      " |-- search_keywords: string (nullable = true)\n",
      "\n"
     ]
    },
    {
     "name": "stderr",
     "output_type": "stream",
     "text": [
      "C:\\Users\\Sunyoung_Jang\\anaconda3\\envs\\pyspark\\lib\\site-packages\\pyspark\\sql\\pandas\\conversion.py:248: FutureWarning: Passing unit-less datetime64 dtype to .astype is deprecated and will raise in a future version. Pass 'datetime64[ns]' instead\n",
      "  series = series.astype(t, copy=False)\n"
     ]
    },
    {
     "data": {
      "text/html": [
       "<div>\n",
       "<style scoped>\n",
       "    .dataframe tbody tr th:only-of-type {\n",
       "        vertical-align: middle;\n",
       "    }\n",
       "\n",
       "    .dataframe tbody tr th {\n",
       "        vertical-align: top;\n",
       "    }\n",
       "\n",
       "    .dataframe thead th {\n",
       "        text-align: right;\n",
       "    }\n",
       "</style>\n",
       "<table border=\"1\" class=\"dataframe\">\n",
       "  <thead>\n",
       "    <tr style=\"text-align: right;\">\n",
       "      <th></th>\n",
       "      <th>session_id</th>\n",
       "      <th>event_name</th>\n",
       "      <th>event_time</th>\n",
       "      <th>event_id</th>\n",
       "      <th>traffic_source</th>\n",
       "      <th>product_id</th>\n",
       "      <th>quantity</th>\n",
       "      <th>item_price</th>\n",
       "      <th>payment_status</th>\n",
       "      <th>search_keywords</th>\n",
       "    </tr>\n",
       "  </thead>\n",
       "  <tbody>\n",
       "    <tr>\n",
       "      <th>0</th>\n",
       "      <td>fb0abf9e-fd1a-44dd-b5c0-2834d5a4b81c</td>\n",
       "      <td>HOMEPAGE</td>\n",
       "      <td>2019-09-07 00:54:32.821085</td>\n",
       "      <td>9c4388c4-c95b-4678-b5ca-e9cbc0734109</td>\n",
       "      <td>MOBILE</td>\n",
       "      <td>None</td>\n",
       "      <td>NaN</td>\n",
       "      <td>NaN</td>\n",
       "      <td>None</td>\n",
       "      <td>None</td>\n",
       "    </tr>\n",
       "    <tr>\n",
       "      <th>1</th>\n",
       "      <td>fb0abf9e-fd1a-44dd-b5c0-2834d5a4b81c</td>\n",
       "      <td>SCROLL</td>\n",
       "      <td>2019-09-07 01:03:57.821085</td>\n",
       "      <td>4690e1f5-3f99-42d3-84a5-22c4c4d8500a</td>\n",
       "      <td>MOBILE</td>\n",
       "      <td>None</td>\n",
       "      <td>NaN</td>\n",
       "      <td>NaN</td>\n",
       "      <td>None</td>\n",
       "      <td>None</td>\n",
       "    </tr>\n",
       "    <tr>\n",
       "      <th>2</th>\n",
       "      <td>7d440441-e67a-4d36-b324-80ffd636d166</td>\n",
       "      <td>HOMEPAGE</td>\n",
       "      <td>2019-09-01 21:05:10.322763</td>\n",
       "      <td>88aeaeb5-ec98-4859-852c-8abb483faf31</td>\n",
       "      <td>MOBILE</td>\n",
       "      <td>None</td>\n",
       "      <td>NaN</td>\n",
       "      <td>NaN</td>\n",
       "      <td>None</td>\n",
       "      <td>None</td>\n",
       "    </tr>\n",
       "    <tr>\n",
       "      <th>3</th>\n",
       "      <td>7d440441-e67a-4d36-b324-80ffd636d166</td>\n",
       "      <td>ADD_TO_CART</td>\n",
       "      <td>2019-09-01 21:06:33.322763</td>\n",
       "      <td>934e306e-ecc6-472f-9ccb-12c8536910a2</td>\n",
       "      <td>MOBILE</td>\n",
       "      <td>15315.0</td>\n",
       "      <td>NaN</td>\n",
       "      <td>NaN</td>\n",
       "      <td>None</td>\n",
       "      <td>None</td>\n",
       "    </tr>\n",
       "    <tr>\n",
       "      <th>4</th>\n",
       "      <td>7d440441-e67a-4d36-b324-80ffd636d166</td>\n",
       "      <td>BOOKING</td>\n",
       "      <td>2019-09-01 21:15:29.425431</td>\n",
       "      <td>9f4767a1-40fa-4c9c-9524-dfad18634d56</td>\n",
       "      <td>MOBILE</td>\n",
       "      <td>None</td>\n",
       "      <td>NaN</td>\n",
       "      <td>NaN</td>\n",
       "      <td>Success</td>\n",
       "      <td>None</td>\n",
       "    </tr>\n",
       "  </tbody>\n",
       "</table>\n",
       "</div>"
      ],
      "text/plain": [
       "                             session_id   event_name  \\\n",
       "0  fb0abf9e-fd1a-44dd-b5c0-2834d5a4b81c     HOMEPAGE   \n",
       "1  fb0abf9e-fd1a-44dd-b5c0-2834d5a4b81c       SCROLL   \n",
       "2  7d440441-e67a-4d36-b324-80ffd636d166     HOMEPAGE   \n",
       "3  7d440441-e67a-4d36-b324-80ffd636d166  ADD_TO_CART   \n",
       "4  7d440441-e67a-4d36-b324-80ffd636d166      BOOKING   \n",
       "\n",
       "                  event_time                              event_id  \\\n",
       "0 2019-09-07 00:54:32.821085  9c4388c4-c95b-4678-b5ca-e9cbc0734109   \n",
       "1 2019-09-07 01:03:57.821085  4690e1f5-3f99-42d3-84a5-22c4c4d8500a   \n",
       "2 2019-09-01 21:05:10.322763  88aeaeb5-ec98-4859-852c-8abb483faf31   \n",
       "3 2019-09-01 21:06:33.322763  934e306e-ecc6-472f-9ccb-12c8536910a2   \n",
       "4 2019-09-01 21:15:29.425431  9f4767a1-40fa-4c9c-9524-dfad18634d56   \n",
       "\n",
       "  traffic_source product_id  quantity  item_price payment_status  \\\n",
       "0         MOBILE       None       NaN         NaN           None   \n",
       "1         MOBILE       None       NaN         NaN           None   \n",
       "2         MOBILE       None       NaN         NaN           None   \n",
       "3         MOBILE    15315.0       NaN         NaN           None   \n",
       "4         MOBILE       None       NaN         NaN        Success   \n",
       "\n",
       "  search_keywords  \n",
       "0            None  \n",
       "1            None  \n",
       "2            None  \n",
       "3            None  \n",
       "4            None  "
      ]
     },
     "execution_count": 8,
     "metadata": {},
     "output_type": "execute_result"
    }
   ],
   "source": [
    "filename = 'click_stream_new.csv'\n",
    "schema = \"\"\"`session_id` STRING\n",
    ", `event_name` STRING \n",
    ", `event_time` TIMESTAMP\n",
    ", `event_id` STRING NOT NULL\n",
    ", `traffic_source` STRING\n",
    ", `product_id` STRING\n",
    ", `quantity` INTEGER\n",
    ", `item_price` INTEGER\n",
    ", `payment_status` STRING\n",
    ", `search_keywords` STRING\n",
    "\"\"\"\n",
    "\n",
    "# Loading Data\n",
    "click_stream = load_data(schema, filename)\n",
    "\n",
    "click_stream.printSchema()\n",
    "click_stream.limit(5).toPandas()"
   ]
  },
  {
   "cell_type": "markdown",
   "id": "26ca544b",
   "metadata": {},
   "source": [
    "#### customer\n",
    "- 회원정보로, 기본적인 인적사항 및 성별, 생일, 기기 정보 등이 담겨있다.\n",
    "- 아쉽게도 회원가입 일자는 없다."
   ]
  },
  {
   "cell_type": "code",
   "execution_count": 9,
   "id": "a532c7ab",
   "metadata": {
    "ExecuteTime": {
     "end_time": "2023-03-28T04:02:53.548011Z",
     "start_time": "2023-03-28T04:02:52.242409Z"
    }
   },
   "outputs": [
    {
     "name": "stdout",
     "output_type": "stream",
     "text": [
      "root\n",
      " |-- customer_id: string (nullable = true)\n",
      " |-- first_name: string (nullable = true)\n",
      " |-- last_name: string (nullable = true)\n",
      " |-- username: string (nullable = true)\n",
      " |-- email: string (nullable = true)\n",
      " |-- gender: string (nullable = true)\n",
      " |-- birthdate: date (nullable = true)\n",
      " |-- device_type: string (nullable = true)\n",
      " |-- device_id: string (nullable = true)\n",
      " |-- device_version: string (nullable = true)\n",
      " |-- first_join_date: date (nullable = true)\n",
      "\n",
      "+-----------+----------+-----------+--------------------+--------------------+------+----------+-----------+--------------------+--------------------+---------------+\n",
      "|customer_id|first_name|  last_name|            username|               email|gender| birthdate|device_type|           device_id|      device_version|first_join_date|\n",
      "+-----------+----------+-----------+--------------------+--------------------+------+----------+-----------+--------------------+--------------------+---------------+\n",
      "|       2870|      Lala|    Maryati|671a0865-ac4e-4dc...|671a0865_ac4e_4dc...|     F|1996-06-14|        iOS|c9c0de76-0a6c-4ac...|iPhone; CPU iPhon...|     2019-07-21|\n",
      "|       8193|  Maimunah| Laksmiwati|83be2ba7-8133-48a...|83be2ba7_8133_48a...|     F|1993-08-16|    Android|fb331c3d-f42e-40f...|       Android 2.2.1|     2017-07-16|\n",
      "|       7279|   Bakiman|Simanjuntak|3250e5a3-1d23-467...|3250e5a3_1d23_467...|     M|1989-01-23|        iOS|d13dde0a-6ae1-43c...|iPad; CPU iPad OS...|     2020-08-23|\n",
      "|      88813|   Cahyadi|  Maheswara|df797edf-b465-4a8...|df797edf_b465_4a8...|     M|1991-01-05|        iOS|f4c18515-c5be-419...|iPad; CPU iPad OS...|     2021-10-03|\n",
      "|      82542|   Irnanto|     Wijaya|36ab08e1-03de-42a...|36ab08e1_03de_42a...|     M|2000-07-15|        iOS|e46e4c36-4630-473...|iPhone; CPU iPhon...|     2021-04-11|\n",
      "+-----------+----------+-----------+--------------------+--------------------+------+----------+-----------+--------------------+--------------------+---------------+\n",
      "only showing top 5 rows\n",
      "\n"
     ]
    }
   ],
   "source": [
    "filename = 'customer.csv'\n",
    "schema = \"\"\"`customer_id` STRING NOT NULL\n",
    ", `first_name` STRING\n",
    ", `last_name` STRING\n",
    ", `username` STRING\n",
    ", `email` STRING\n",
    ", `gender` STRING\n",
    ", `birthdate` DATE\n",
    ", `device_type` STRING\n",
    ", `device_id` STRING\n",
    ", `device_version` STRING\n",
    ", `first_join_date` DATE\n",
    "\"\"\"\n",
    "\n",
    "# Loading Data\n",
    "customer = load_data(schema, filename)\n",
    "\n",
    "customer.printSchema()\n",
    "customer.show(5) "
   ]
  },
  {
   "cell_type": "markdown",
   "id": "c2593658",
   "metadata": {},
   "source": [
    "#### product\n",
    "- 제품의 타겟 성별, 시즌, 카테고리, 기본 색상, 패션스타일(캐쥬얼 등), 제품명을 보여준다."
   ]
  },
  {
   "cell_type": "code",
   "execution_count": 10,
   "id": "3a1fe173",
   "metadata": {
    "ExecuteTime": {
     "end_time": "2023-03-28T04:02:54.334529Z",
     "start_time": "2023-03-28T04:02:53.555643Z"
    }
   },
   "outputs": [
    {
     "name": "stdout",
     "output_type": "stream",
     "text": [
      "root\n",
      " |-- id: string (nullable = true)\n",
      " |-- gender: string (nullable = true)\n",
      " |-- masterCategory: string (nullable = true)\n",
      " |-- subCategory: string (nullable = true)\n",
      " |-- articleType: string (nullable = true)\n",
      " |-- baseColour: string (nullable = true)\n",
      " |-- season: string (nullable = true)\n",
      " |-- YEAR: integer (nullable = true)\n",
      " |-- usage: string (nullable = true)\n",
      " |-- productDisplayName: string (nullable = true)\n",
      "\n",
      "+-----+------+--------------+-----------+-----------+----------+------+----+------+--------------------+\n",
      "|   id|gender|masterCategory|subCategory|articleType|baseColour|season|YEAR| usage|  productDisplayName|\n",
      "+-----+------+--------------+-----------+-----------+----------+------+----+------+--------------------+\n",
      "|15970|   Men|       Apparel|    Topwear|     Shirts| Navy Blue|  Fall|2011|Casual|Turtle Check Men ...|\n",
      "|39386|   Men|       Apparel| Bottomwear|      Jeans|      Blue|Summer|2012|Casual|Peter England Men...|\n",
      "|59263| Women|   Accessories|    Watches|    Watches|    Silver|Winter|2016|Casual|Titan Women Silve...|\n",
      "|21379|   Men|       Apparel| Bottomwear|Track Pants|     Black|  Fall|2011|Casual|Manchester United...|\n",
      "|53759|   Men|       Apparel|    Topwear|    Tshirts|      Grey|Summer|2012|Casual|Puma Men Grey T-s...|\n",
      "+-----+------+--------------+-----------+-----------+----------+------+----+------+--------------------+\n",
      "only showing top 5 rows\n",
      "\n"
     ]
    }
   ],
   "source": [
    "filename = 'product.csv'\n",
    "schema = \"\"\"`id` STRING NOT NULL\n",
    ", `gender` STRING\n",
    ", `masterCategory` STRING\n",
    ", `subCategory` STRING\n",
    ", `articleType` STRING\n",
    ", `baseColour` STRING\n",
    ", `season` STRING\n",
    ", `YEAR` INT\n",
    ", `usage` STRING\n",
    ", `productDisplayName` STRING\n",
    "\"\"\"\n",
    "\n",
    "# Loading Data\n",
    "product = load_data(schema, filename)\n",
    "\n",
    "product.printSchema()\n",
    "product.show(5) "
   ]
  },
  {
   "cell_type": "markdown",
   "id": "52fe7bc5",
   "metadata": {},
   "source": [
    "#### transaction\n",
    "- 결제 정보를 보여준다. \n",
    "- session_id로 로그 데이터와 조인 가능\n",
    "- 프로모션 및 배송 정보도 포함되어 있다."
   ]
  },
  {
   "cell_type": "code",
   "execution_count": 11,
   "id": "93ea4ff9",
   "metadata": {
    "ExecuteTime": {
     "end_time": "2023-03-28T04:02:55.381297Z",
     "start_time": "2023-03-28T04:02:54.342678Z"
    }
   },
   "outputs": [
    {
     "name": "stdout",
     "output_type": "stream",
     "text": [
      "root\n",
      " |-- created_at: date (nullable = true)\n",
      " |-- customer_id: string (nullable = true)\n",
      " |-- booking_id: string (nullable = true)\n",
      " |-- session_id: string (nullable = true)\n",
      " |-- payment_method: string (nullable = true)\n",
      " |-- payment_status: string (nullable = true)\n",
      " |-- promo_amount: integer (nullable = true)\n",
      " |-- promo_code: string (nullable = true)\n",
      " |-- shipment_fee: integer (nullable = true)\n",
      " |-- shipment_date_limit: date (nullable = true)\n",
      " |-- shipment_location_lat: string (nullable = true)\n",
      " |-- shipment_location_long: string (nullable = true)\n",
      " |-- total_amount: integer (nullable = true)\n",
      " |-- product_id: string (nullable = true)\n",
      " |-- quantity: integer (nullable = true)\n",
      " |-- item_price: integer (nullable = true)\n",
      "\n",
      "+----------+-----------+--------------------+--------------------+--------------+--------------+------------+-----------+------------+-------------------+---------------------+----------------------+------------+----------+--------+----------+\n",
      "|created_at|customer_id|          booking_id|          session_id|payment_method|payment_status|promo_amount| promo_code|shipment_fee|shipment_date_limit|shipment_location_lat|shipment_location_long|total_amount|product_id|quantity|item_price|\n",
      "+----------+-----------+--------------------+--------------------+--------------+--------------+------------+-----------+------------+-------------------+---------------------+----------------------+------------+----------+--------+----------+\n",
      "|2018-07-29|       5868|186e2bee-0637-471...|3abaa6ce-e320-4e5...|    Debit Card|       Success|        1415|WEEKENDSERU|       10000|         2018-08-03|   -8.227893136507902|    111.96910737424372|      199832|     54728|       1|    191247|\n",
      "|2018-07-30|       4774|caadb57b-e808-4f9...|2ee5ead1-f13e-475...|   Credit Card|       Success|           0|       null|       10000|         2018-08-03|     3.01346954522165|    107.80251356042383|      155526|     16193|       1|    145526|\n",
      "|2018-09-15|       4774|6000fffb-9c1a-4f4...|93325fb6-eb00-426...|           OVO|       Success|           0|       null|       10000|         2018-09-18|   -2.579427942594629|    115.74388516427148|      550696|     53686|       4|    135174|\n",
      "|2018-11-01|       4774|f5e530a7-4350-4cd...|bcad5a61-1b67-448...|   Credit Card|       Success|           0|       null|           0|         2018-11-05|  -3.6023340176008496|    120.36382351091868|      271012|     20228|       1|    271012|\n",
      "|2018-12-18|       4774|0efc0594-dbbf-4f9...|df1042ab-13e6-407...|   Credit Card|       Success|           0|       null|           0|         2018-12-23|  -3.6023340176008496|    120.36382351091868|      198753|     55220|       1|    198753|\n",
      "+----------+-----------+--------------------+--------------------+--------------+--------------+------------+-----------+------------+-------------------+---------------------+----------------------+------------+----------+--------+----------+\n",
      "only showing top 5 rows\n",
      "\n"
     ]
    }
   ],
   "source": [
    "filename = 'transaction_new.csv'\n",
    "schema = \"\"\"`created_at` DATE\n",
    ", `customer_id` STRING\n",
    ", `booking_id` STRING\n",
    ", `session_id` STRING\n",
    ", `payment_method` STRING\n",
    ", `payment_status` STRING\n",
    ", `promo_amount` INT\n",
    ", `promo_code` STRING\n",
    ", `shipment_fee` INT\n",
    ", `shipment_date_limit` DATE\n",
    ", `shipment_location_lat` STRING\n",
    ", `shipment_location_long` STRING\n",
    ", `total_amount` INT\n",
    ", `product_id` STRING\n",
    ", `quantity` INT\n",
    ", `item_price` INT\n",
    "\"\"\"\n",
    "\n",
    "# Loading Data\n",
    "transaction = load_data(schema, filename)\n",
    "\n",
    "transaction.printSchema()\n",
    "transaction.show(5) "
   ]
  },
  {
   "cell_type": "code",
   "execution_count": 12,
   "id": "22f0555c",
   "metadata": {
    "ExecuteTime": {
     "end_time": "2023-03-28T04:02:55.458647Z",
     "start_time": "2023-03-28T04:02:55.400401Z"
    },
    "scrolled": true
   },
   "outputs": [
    {
     "name": "stdout",
     "output_type": "stream",
     "text": [
      "root\n",
      " |-- created_at: date (nullable = true)\n",
      " |-- customer_id: string (nullable = true)\n",
      " |-- booking_id: string (nullable = true)\n",
      " |-- session_id: string (nullable = true)\n",
      " |-- payment_method: string (nullable = true)\n",
      " |-- payment_status: string (nullable = true)\n",
      " |-- promo_amount: integer (nullable = true)\n",
      " |-- promo_code: string (nullable = true)\n",
      " |-- shipment_fee: integer (nullable = true)\n",
      " |-- total_amount: integer (nullable = true)\n",
      " |-- product_id: string (nullable = true)\n",
      " |-- quantity: integer (nullable = true)\n",
      " |-- item_price: integer (nullable = true)\n",
      "\n"
     ]
    }
   ],
   "source": [
    "# 필요한 데이터만 골라내기\n",
    "transaction = transaction.drop('shipment_date_limit','shipment_location_lat','shipment_location_long')\n",
    "transaction.printSchema()"
   ]
  },
  {
   "cell_type": "markdown",
   "id": "8252e966",
   "metadata": {},
   "source": [
    "## EDA \n",
    "- 결측값, 잘못된 데이터를 살펴보고 데이터 전처리 여부를 결정한다."
   ]
  },
  {
   "cell_type": "markdown",
   "id": "26304349",
   "metadata": {},
   "source": [
    "### 데이터 조회하는 두가지 방법\n",
    "1. Spark Dataframe API를 활용하는 방법\n",
    "- spark api를 알아야 한다(그런데 sql과 형태는 매우 비슷하다.)\n",
    "\n",
    "2. Temp view 생성을 통해 SQL 쿼리를 돌리는 방법\n",
    "- 스파크 SQL은 스키마를 가진 정형 데이터에서 ANSI SQL 2003 호환 쿼리를 사용할 수 있게 한다.\n",
    "- Hive나 DB에서 데이터를 불러오지 않는 경우 세션별로 view를 생성해주어야한다는 특징\n",
    "- 혹은 parquet 형태 데이터셋들을 파일로 저장하여 읽어들이는 방법도 있다. <br>\n",
    "Link : https://spark.apache.org/docs/2.2.0/sql-programming-guide.html#generic-loadsave-functions\n",
    "<br>\n",
    "<br>\n",
    "두 방법 모두 스파크 쿼리는 논리/물리 계획 수립에서 최종 코드 생성까지 동일한 최적화 과정을 거치게 된다.\n",
    "<br>\n",
    "\n",
    "*Reference*. https://spark.apache.org/docs/2.2.0/sql-programming-guide.html#run-sql-on-files-directly"
   ]
  },
  {
   "cell_type": "code",
   "execution_count": 13,
   "id": "4a2d8c45",
   "metadata": {
    "ExecuteTime": {
     "end_time": "2023-03-28T04:03:20.303308Z",
     "start_time": "2023-03-28T04:02:55.469858Z"
    },
    "scrolled": false
   },
   "outputs": [
    {
     "name": "stdout",
     "output_type": "stream",
     "text": [
      "+-----------+-----------------+\n",
      "| event_name|count(event_name)|\n",
      "+-----------+-----------------+\n",
      "|     SCROLL|          1663571|\n",
      "|ITEM_DETAIL|          1290396|\n",
      "|  ADD_PROMO|           326535|\n",
      "|    BOOKING|           852582|\n",
      "|      CLICK|          2498038|\n",
      "| PROMO_PAGE|           604931|\n",
      "|ADD_TO_CART|          1937157|\n",
      "|   HOMEPAGE|          2487126|\n",
      "|     SEARCH|          1173266|\n",
      "+-----------+-----------------+\n",
      "\n"
     ]
    }
   ],
   "source": [
    "# SoluAgg count for each event\n",
    "\n",
    "from pyspark.sql.functions import count\n",
    "\n",
    "avg_df = click_stream.groupBy('event_name').agg(count('event_name'))\n",
    "avg_df.show()"
   ]
  },
  {
   "cell_type": "code",
   "execution_count": 14,
   "id": "c9f17e2f",
   "metadata": {
    "ExecuteTime": {
     "end_time": "2023-03-28T04:03:45.213484Z",
     "start_time": "2023-03-28T04:03:20.308486Z"
    }
   },
   "outputs": [
    {
     "name": "stdout",
     "output_type": "stream",
     "text": [
      "+-----------+-----------------+\n",
      "| event_name|count(event_name)|\n",
      "+-----------+-----------------+\n",
      "|     SCROLL|          1663571|\n",
      "|ITEM_DETAIL|          1290396|\n",
      "|  ADD_PROMO|           326535|\n",
      "|    BOOKING|           852582|\n",
      "|      CLICK|          2498038|\n",
      "| PROMO_PAGE|           604931|\n",
      "|ADD_TO_CART|          1937157|\n",
      "|   HOMEPAGE|          2487126|\n",
      "|     SEARCH|          1173266|\n",
      "+-----------+-----------------+\n",
      "\n"
     ]
    }
   ],
   "source": [
    "# Register the DataFrame as a SQL temporary view\n",
    "click_stream.createOrReplaceTempView(\"click_stream\")\n",
    "\n",
    "# Using spark.sql() \n",
    "spark.sql('SELECT event_name, COUNT(event_name) FROM click_stream GROUP BY event_name').show()"
   ]
  },
  {
   "cell_type": "markdown",
   "id": "04f94199",
   "metadata": {},
   "source": [
    "위에 보는 것 처럼, 스파크 SQL을 사용하여 SQL 쿼리를 실행할 수 있다. ANSI:2003과 호환되는 인터페이스가 제공되며, SQL과 데이터 프레임 간에 상호 운용성을 보여준다. (위 두 코드는 이벤트 별 발생 횟수를 보여주며, 두 실행 결과는 동일)"
   ]
  },
  {
   "cell_type": "markdown",
   "id": "9f09c911",
   "metadata": {},
   "source": [
    "### 분석 대상 데이터 EDA\n",
    "- 우리는 재구매율과 이탈률을 볼 것이다.\n",
    "- 따라서 4가지 데이터 세트 중 click stream과 customer 데이터를 살펴볼 것이다."
   ]
  },
  {
   "cell_type": "markdown",
   "id": "a8e9dcd3",
   "metadata": {},
   "source": [
    "#### 결측값 확인\n",
    "- 귀찮은데 스킵할까 고민중"
   ]
  },
  {
   "cell_type": "code",
   "execution_count": 15,
   "id": "8da0af46",
   "metadata": {
    "ExecuteTime": {
     "end_time": "2023-03-28T04:04:00.622524Z",
     "start_time": "2023-03-28T04:03:45.222488Z"
    },
    "scrolled": true
   },
   "outputs": [
    {
     "name": "stdout",
     "output_type": "stream",
     "text": [
      "+--------+\n",
      "|count(1)|\n",
      "+--------+\n",
      "|12833602|\n",
      "+--------+\n",
      "\n"
     ]
    }
   ],
   "source": [
    "# TOTAL ROWS\n",
    "spark.sql('SELECT COUNT(*) FROM click_stream').show()"
   ]
  },
  {
   "cell_type": "code",
   "execution_count": 16,
   "id": "e6a28398",
   "metadata": {
    "ExecuteTime": {
     "end_time": "2023-03-28T04:07:35.516631Z",
     "start_time": "2023-03-28T04:04:00.633091Z"
    }
   },
   "outputs": [
    {
     "name": "stdout",
     "output_type": "stream",
     "text": [
      "+----------+----------+----------+--------+--------------+----------+--------+----------+--------------+---------------+\n",
      "|session_id|event_name|event_time|event_id|traffic_source|product_id|quantity|item_price|payment_status|search_keywords|\n",
      "+----------+----------+----------+--------+--------------+----------+--------+----------+--------------+---------------+\n",
      "|         0|         0|         0|       0|             0|  10896445|12833602|  12833602|      11981020|       11660336|\n",
      "+----------+----------+----------+--------+--------------+----------+--------+----------+--------------+---------------+\n",
      "\n"
     ]
    }
   ],
   "source": [
    "# Null값 확인\n",
    "from pyspark.sql.functions import isnan, when, count, col, isnull\n",
    "\n",
    "click_stream.select([count(when(isnull(c), c)).alias(c) for c in click_stream.columns]).show()"
   ]
  },
  {
   "cell_type": "markdown",
   "id": "164d6ea5",
   "metadata": {},
   "source": [
    "**데이터프레임 API가 스파크 SQL보다 편리한 경우**<br>\n",
    "위의 경우와 같이 어떠한 연산을 모든 컬럼에 적용하여 반복하는 경우 for문은 사용할 수 있다는 점에서 데이터프레임 API가 더 편리하다."
   ]
  },
  {
   "cell_type": "code",
   "execution_count": 17,
   "id": "c7f8ccf8",
   "metadata": {
    "ExecuteTime": {
     "end_time": "2023-03-28T04:10:42.608102Z",
     "start_time": "2023-03-28T04:07:35.523492Z"
    },
    "scrolled": false
   },
   "outputs": [
    {
     "name": "stdout",
     "output_type": "stream",
     "text": [
      "+----------+----------+----------+--------+--------------+----------+--------+----------+--------------+---------------+\n",
      "|session_id|event_name|event_time|event_id|traffic_source|product_id|quantity|item_price|payment_status|search_keywords|\n",
      "+----------+----------+----------+--------+--------------+----------+--------+----------+--------------+---------------+\n",
      "|       0.0|       0.0|       0.0|     0.0|           0.0|     84.91|   100.0|     100.0|         93.36|          90.86|\n",
      "+----------+----------+----------+--------+--------------+----------+--------+----------+--------------+---------------+\n",
      "\n"
     ]
    }
   ],
   "source": [
    "# Null 값 비중\n",
    "import pyspark.sql.functions as f  # 내장함수와의 충돌 방지\n",
    "\n",
    "click_stream.select([f.round((count(when(isnull(c), c))/12833602)*100, 2).alias(c) for c in click_stream.columns]).show()"
   ]
  },
  {
   "cell_type": "markdown",
   "id": "ae07f4f2",
   "metadata": {},
   "source": [
    "##### Error!\n",
    "왜인지 모르겠지만 quantity와 item_price 데이터가 전부 null로 나타남. 데이터 원본은 문제가 없어 불러드리는 과정에서 망가진 것으로 추측된다.<br>\n",
    "**알아낸 것**\n",
    "- spark는 csv에서 파일을 읽을 때 \"\"과 그냥   이런 빈 값 둘다 null로 처리한다.\n",
    "- python 에는 null 타입이 없다. (그래서 python 내장 메서드로 해결하려면 안된다)\n",
    "- 숫자가 너무 크거나 (2147483647>) 숫자에 콤마가 포함 된 경우 string-> int는 null을 반환한다.\n",
    "- Solution : string 타입으로 먼저 불러들인 후 데이터를 확인하여 변환한다."
   ]
  },
  {
   "cell_type": "code",
   "execution_count": 18,
   "id": "9e4f3cca",
   "metadata": {
    "ExecuteTime": {
     "end_time": "2023-03-28T04:10:43.198904Z",
     "start_time": "2023-03-28T04:10:42.617043Z"
    },
    "scrolled": false
   },
   "outputs": [
    {
     "name": "stdout",
     "output_type": "stream",
     "text": [
      "root\n",
      " |-- session_id: string (nullable = true)\n",
      " |-- event_name: string (nullable = true)\n",
      " |-- event_time: timestamp (nullable = true)\n",
      " |-- event_id: string (nullable = true)\n",
      " |-- traffic_source: string (nullable = true)\n",
      " |-- product_id: string (nullable = true)\n",
      " |-- quantity: string (nullable = true)\n",
      " |-- item_price: string (nullable = true)\n",
      " |-- payment_status: string (nullable = true)\n",
      " |-- search_keywords: string (nullable = true)\n",
      "\n",
      "+--------+----------+\n",
      "|quantity|item_price|\n",
      "+--------+----------+\n",
      "|    null|      null|\n",
      "|    null|      null|\n",
      "|    null|      null|\n",
      "|     4.0|  313529.0|\n",
      "|    null|      null|\n",
      "+--------+----------+\n",
      "only showing top 5 rows\n",
      "\n"
     ]
    }
   ],
   "source": [
    "filename = 'click_stream_new.csv'\n",
    "schema = \"\"\"`session_id` STRING\n",
    ", `event_name` STRING \n",
    ", `event_time` TIMESTAMP\n",
    ", `event_id` STRING NOT NULL\n",
    ", `traffic_source` STRING\n",
    ", `product_id` STRING\n",
    ", `quantity` STRING\n",
    ", `item_price` STRING\n",
    ", `payment_status` STRING\n",
    ", `search_keywords` STRING\n",
    "\"\"\"\n",
    "\n",
    "# Loading Data\n",
    "click_stream = load_data(schema, filename)  # long 타입으로 64비트 인트형 사용하기\n",
    "\n",
    "click_stream.printSchema()\n",
    "click_stream['quantity', 'item_price'].show(5)  # 문제없이 데이터 출력됨"
   ]
  },
  {
   "cell_type": "code",
   "execution_count": 19,
   "id": "d00033bc",
   "metadata": {
    "ExecuteTime": {
     "end_time": "2023-03-28T04:10:43.619412Z",
     "start_time": "2023-03-28T04:10:43.207906Z"
    }
   },
   "outputs": [
    {
     "name": "stdout",
     "output_type": "stream",
     "text": [
      "+--------+----------+\n",
      "|quantity|item_price|\n",
      "+--------+----------+\n",
      "|    null|      null|\n",
      "|    null|      null|\n",
      "|    null|      null|\n",
      "|       4|    313529|\n",
      "|    null|      null|\n",
      "+--------+----------+\n",
      "only showing top 5 rows\n",
      "\n",
      "root\n",
      " |-- session_id: string (nullable = true)\n",
      " |-- event_name: string (nullable = true)\n",
      " |-- event_time: timestamp (nullable = true)\n",
      " |-- event_id: string (nullable = true)\n",
      " |-- traffic_source: string (nullable = true)\n",
      " |-- product_id: string (nullable = true)\n",
      " |-- quantity: integer (nullable = true)\n",
      " |-- item_price: integer (nullable = true)\n",
      " |-- payment_status: string (nullable = true)\n",
      " |-- search_keywords: string (nullable = true)\n",
      "\n"
     ]
    }
   ],
   "source": [
    "# 데이터 타입 변경\n",
    "\n",
    "from pyspark.sql.types import FloatType, IntegerType\n",
    "\n",
    "click_stream = click_stream.withColumn('quantity', click_stream.quantity.cast(IntegerType()))\\\n",
    "                .withColumn('item_price', click_stream.item_price.cast(IntegerType()))\n",
    "\n",
    "click_stream['quantity', 'item_price'].show(5) \n",
    "click_stream.printSchema()"
   ]
  },
  {
   "cell_type": "code",
   "execution_count": 20,
   "id": "2c3f5580",
   "metadata": {
    "ExecuteTime": {
     "end_time": "2023-03-28T04:11:16.280906Z",
     "start_time": "2023-03-28T04:10:43.628904Z"
    }
   },
   "outputs": [
    {
     "data": {
      "text/plain": [
       "10896445"
      ]
     },
     "execution_count": 20,
     "metadata": {},
     "output_type": "execute_result"
    }
   ],
   "source": [
    "click_stream.filter('quantity is null').count()"
   ]
  },
  {
   "cell_type": "markdown",
   "id": "ef482d96",
   "metadata": {},
   "source": [
    "**Solved!**<br>\n",
    "String으로 먼저 정의하여 가져온 후 int형으로 변환하니 간단히 해결되었다. 다른 테이블의 경우 integer로 설정해도 null값만 출력되는 문제가 발생하지 않은 것은 `click_stream` 테이블만 csv상에 float형으로 설정되어서 에러가 나타났던 것으로 추측된다."
   ]
  },
  {
   "cell_type": "code",
   "execution_count": 21,
   "id": "49eab084",
   "metadata": {
    "ExecuteTime": {
     "end_time": "2023-03-28T04:14:17.440726Z",
     "start_time": "2023-03-28T04:11:16.287909Z"
    }
   },
   "outputs": [
    {
     "name": "stdout",
     "output_type": "stream",
     "text": [
      "+----------+----------+----------+--------+--------------+----------+--------+----------+--------------+---------------+\n",
      "|session_id|event_name|event_time|event_id|traffic_source|product_id|quantity|item_price|payment_status|search_keywords|\n",
      "+----------+----------+----------+--------+--------------+----------+--------+----------+--------------+---------------+\n",
      "|       0.0|       0.0|       0.0|     0.0|           0.0|     84.91|   84.91|     84.91|         93.36|          90.86|\n",
      "+----------+----------+----------+--------+--------------+----------+--------+----------+--------------+---------------+\n",
      "\n"
     ]
    }
   ],
   "source": [
    "# Null 값 비중\n",
    "\n",
    "click_stream.select([f.round((count(when(isnull(c), c))/12833602)*100, 2).alias(c) for c in click_stream.columns]).show()"
   ]
  },
  {
   "cell_type": "markdown",
   "id": "3ce08a17",
   "metadata": {},
   "source": [
    "#### Summary stats"
   ]
  },
  {
   "cell_type": "code",
   "execution_count": 22,
   "id": "2aca74d2",
   "metadata": {
    "ExecuteTime": {
     "end_time": "2023-03-28T04:15:00.427057Z",
     "start_time": "2023-03-28T04:14:17.446997Z"
    },
    "scrolled": true
   },
   "outputs": [
    {
     "name": "stdout",
     "output_type": "stream",
     "text": [
      "+-------+------------------+\n",
      "|summary|          quantity|\n",
      "+-------+------------------+\n",
      "|  count|           1937157|\n",
      "|   mean| 1.439845092576389|\n",
      "| stddev|1.4888804186634335|\n",
      "|    min|                 1|\n",
      "|    max|                48|\n",
      "+-------+------------------+\n",
      "\n",
      "+-------+------------------+\n",
      "|summary|        item_price|\n",
      "+-------+------------------+\n",
      "|  count|           1937157|\n",
      "|   mean|267640.70008935774|\n",
      "| stddev|118162.00028964269|\n",
      "|    min|              5600|\n",
      "|    max|           1335959|\n",
      "+-------+------------------+\n",
      "\n"
     ]
    }
   ],
   "source": [
    "# click_stream\n",
    "for col in ['quantity','item_price']:\n",
    "    click_stream.describe([col]).show()  # 이 작업은 수치형이 아닌 컬럼에 하면 상당히 오래걸린다."
   ]
  },
  {
   "cell_type": "markdown",
   "id": "9e350fc3",
   "metadata": {},
   "source": [
    "#### Unique values of a categorical columns"
   ]
  },
  {
   "cell_type": "code",
   "execution_count": 23,
   "id": "e2185438",
   "metadata": {
    "ExecuteTime": {
     "end_time": "2023-03-28T04:18:45.792202Z",
     "start_time": "2023-03-28T04:15:00.437254Z"
    }
   },
   "outputs": [
    {
     "name": "stdout",
     "output_type": "stream",
     "text": [
      "+----------+----------+--------+--------------+----------+\n",
      "|session_id|event_name|event_id|traffic_source|product_id|\n",
      "+----------+----------+--------+--------------+----------+\n",
      "|    895203|         9|12833602|             2|     44446|\n",
      "+----------+----------+--------+--------------+----------+\n",
      "\n"
     ]
    }
   ],
   "source": [
    "# SQL 뷰 만들기\n",
    "click_stream.createOrReplaceTempView('click_stream')\n",
    "\n",
    "spark.sql(\"\"\"SELECT COUNT(DISTINCT session_id) as session_id\n",
    "                , COUNT(DISTINCT event_name) as event_name\n",
    "                , COUNT(DISTINCT event_id) as event_id\n",
    "                , COUNT(DISTINCT traffic_source) as traffic_source\n",
    "                , COUNT(DISTINCT product_id)as product_id\n",
    "                FROM click_stream\"\"\").show()\n",
    "# 이것좀 이쁘게 보는 법 없나... : to_Pandas()\n",
    "# Pivot 사용해보기\n",
    "# 이 쿼리 진짜 오래걸림 2분"
   ]
  },
  {
   "cell_type": "code",
   "execution_count": 24,
   "id": "ce78d22b",
   "metadata": {
    "ExecuteTime": {
     "end_time": "2023-03-28T04:19:56.674013Z",
     "start_time": "2023-03-28T04:18:45.801024Z"
    }
   },
   "outputs": [
    {
     "name": "stdout",
     "output_type": "stream",
     "text": [
      "+------------------------+--------------------------+------------------------------+-------------------------------+\n",
      "|count(DISTINCT quantity)|count(DISTINCT item_price)|count(DISTINCT payment_status)|count(DISTINCT search_keywords)|\n",
      "+------------------------+--------------------------+------------------------------+-------------------------------+\n",
      "|                      44|                    460872|                             2|                             23|\n",
      "+------------------------+--------------------------+------------------------------+-------------------------------+\n",
      "\n"
     ]
    }
   ],
   "source": [
    "cnt_logs = spark.sql(\"\"\"SELECT COUNT(DISTINCT quantity)\n",
    "                    , COUNT(DISTINCT item_price)\n",
    "                    , COUNT(DISTINCT payment_status)\n",
    "                    , COUNT(DISTINCT search_keywords)\n",
    "                    FROM click_stream\"\"\").show()"
   ]
  },
  {
   "cell_type": "markdown",
   "id": "537346c5",
   "metadata": {},
   "source": [
    "#### 데이터 기간은?\n",
    "- 2016년 7월 ~ 2022년 8월 데이터이다.\n",
    "- 따라서 가설 확인은 2022년도 8월을 기준으로 진행한다."
   ]
  },
  {
   "cell_type": "code",
   "execution_count": 25,
   "id": "799acd1e",
   "metadata": {
    "ExecuteTime": {
     "end_time": "2023-03-28T04:21:21.596533Z",
     "start_time": "2023-03-28T04:19:56.681823Z"
    },
    "scrolled": false
   },
   "outputs": [
    {
     "name": "stdout",
     "output_type": "stream",
     "text": [
      "+--------------------+--------------------+\n",
      "|     min(event_time)|     max(event_time)|\n",
      "+--------------------+--------------------+\n",
      "|2016-07-01 07:59:...|2022-08-01 09:49:...|\n",
      "+--------------------+--------------------+\n",
      "\n"
     ]
    }
   ],
   "source": [
    "# 제일 최근 일자와 마지막 일자\n",
    "spark.sql('SELECT MIN(event_time), MAX(event_time) FROM click_stream').show(1)"
   ]
  },
  {
   "cell_type": "markdown",
   "id": "4b414c7f",
   "metadata": {},
   "source": [
    "#### Event 종류는 어떻게 되는가?\n",
    "- SCROLL : 스크롤의 깊이의 기준은 90%로 정의(전체 웹 페이지에서 몇 %까지인지는 데이터 명세가 없으므로, GA데이터로 가정)\n",
    "- ITEM_DETAIL : 상세페이지 조회\n",
    "- ADD_PROMO : 프로모션 페이지 클릭으로 유추된다.('할인 쿠폰 받기' 팝업을 클릭하는 것과 같이)\n",
    "- PROMO_PAGE : 프로모션 페이지 클릭으로 유추된다.('할인 쿠폰 받기' 팝업을 클릭하는 것과 같이)"
   ]
  },
  {
   "cell_type": "code",
   "execution_count": 26,
   "id": "cd590cf8",
   "metadata": {
    "ExecuteTime": {
     "end_time": "2023-03-28T04:21:51.363701Z",
     "start_time": "2023-03-28T04:21:21.602720Z"
    }
   },
   "outputs": [
    {
     "name": "stdout",
     "output_type": "stream",
     "text": [
      "+-----------+-----------------+\n",
      "| event_name|count(event_name)|\n",
      "+-----------+-----------------+\n",
      "|     SCROLL|          1663571|\n",
      "|ITEM_DETAIL|          1290396|\n",
      "|  ADD_PROMO|           326535|\n",
      "|    BOOKING|           852582|\n",
      "|      CLICK|          2498038|\n",
      "| PROMO_PAGE|           604931|\n",
      "|ADD_TO_CART|          1937157|\n",
      "|   HOMEPAGE|          2487126|\n",
      "|     SEARCH|          1173266|\n",
      "+-----------+-----------------+\n",
      "\n"
     ]
    }
   ],
   "source": [
    "# 이벤트 종류 확인\n",
    "spark.sql(\"\"\"SELECT event_name, COUNT(event_name)\n",
    "          FROM click_stream\n",
    "          GROUP BY event_name\"\"\").show()"
   ]
  },
  {
   "cell_type": "markdown",
   "id": "de502d33",
   "metadata": {},
   "source": [
    "### 분석 1 : 사업 현황 분석"
   ]
  },
  {
   "cell_type": "markdown",
   "id": "f0478d82",
   "metadata": {},
   "source": [
    "#### 재구매율 계산 (전자상거래 유형 확인)\n",
    "린분석(2013)에 따르면 온라인 쇼핑몰이 고객과 어떤 종류의 관계를 맺고 있는지 아는 것은 매우 중요하며, 유형에 따라 마케팅 및 운영 전략이 달라진다고 언급한다. 이에 따라, 재구매율을 파악하여 아래 유형 중 어떤 유형에 속하는지 파악하고자 한다.\n",
    "\n",
    "1. **신규고객 확보 유형**\n",
    "    - 재구매율이 40% 이하\n",
    "    - 포인트 제도가 도움 x\n",
    "    - 마케팅 전략 : 제품 여러개 사게 만드는 것 x **구매자가 다른 사람들에게 이 쇼핑몰을 추천하도록 만드는 것**\n",
    "    - Ex. 스쿠버 다이빙 장비, 암벽등반 장비 업체\n",
    "\n",
    "<br>\n",
    "\n",
    "2. **하이브리드 유형**\n",
    "    - 재구매율 40%~60%\n",
    "    - 신규고객, 재구매고객 둘 다를 바탕으로 회사가 성장, 둘 다 확보에 초점을 맞추어야\n",
    "    - 사용자들은 연평균 2~2.5회 구매할 것\n",
    "    - Ex. 자포스\n",
    "\n",
    "<br>\n",
    "\n",
    "3. **고객 충성도 유형**\n",
    "    - 재구매율 60%\n",
    "    - 충성도 높은 고객이 더 자주 구매하도록 만들어야 → 포인트 제도 효과적\n",
    "    - Ex. 아마존"
   ]
  },
  {
   "cell_type": "code",
   "execution_count": 27,
   "id": "6b2cda75",
   "metadata": {
    "ExecuteTime": {
     "end_time": "2023-03-28T04:22:00.176897Z",
     "start_time": "2023-03-28T04:21:51.369700Z"
    }
   },
   "outputs": [
    {
     "name": "stdout",
     "output_type": "stream",
     "text": [
      "+---------------+\n",
      "|Total_customers|\n",
      "+---------------+\n",
      "|         100000|\n",
      "+---------------+\n",
      "\n"
     ]
    }
   ],
   "source": [
    "# 1. TOTAL # OF CUSTOMERS\n",
    "customer.createOrReplaceTempView('customer')\n",
    "transaction.createOrReplaceTempView('transaction')\n",
    "\n",
    "spark.sql(\"\"\" SELECT COUNT(DISTINCT customer_id) Total_customers\n",
    "                FROM customer\"\"\").show()"
   ]
  },
  {
   "cell_type": "code",
   "execution_count": 28,
   "id": "935b9555",
   "metadata": {
    "ExecuteTime": {
     "end_time": "2023-03-28T04:22:17.342165Z",
     "start_time": "2023-03-28T04:22:00.183703Z"
    }
   },
   "outputs": [
    {
     "name": "stdout",
     "output_type": "stream",
     "text": [
      "+-----------------------+\n",
      "|Total_reorder_customers|\n",
      "+-----------------------+\n",
      "|                  32828|\n",
      "+-----------------------+\n",
      "\n"
     ]
    }
   ],
   "source": [
    "# 2. Reorder customers (2022)\n",
    "spark.sql(\"\"\"SELECT COUNT(DISTINCT c.customer_id) Total_reorder_customers\n",
    "             FROM customer c\n",
    "             INNER JOIN transaction t\n",
    "             ON c.customer_id = t.customer_id\n",
    "             WHERE YEAR(t.created_at) >= 2022\"\"\").show()"
   ]
  },
  {
   "cell_type": "code",
   "execution_count": 29,
   "id": "9b45a6e0",
   "metadata": {
    "ExecuteTime": {
     "end_time": "2023-03-28T04:22:17.372099Z",
     "start_time": "2023-03-28T04:22:17.349947Z"
    }
   },
   "outputs": [
    {
     "name": "stdout",
     "output_type": "stream",
     "text": [
      "Repeat order rate: 32.83%\n"
     ]
    }
   ],
   "source": [
    "# 3. Calculating the repeat order rate\n",
    "print(f'Repeat order rate: {round(32828 / 100000 * 100, 2)}%')"
   ]
  },
  {
   "cell_type": "markdown",
   "id": "9527091a",
   "metadata": {},
   "source": [
    "2022년도 재구매율은 32.83%로 40% 이하이다. 따라서 전자상거래 유형은 신규고객 확보 유형임을 알 수 있다."
   ]
  },
  {
   "cell_type": "markdown",
   "id": "efbacc35",
   "metadata": {},
   "source": [
    "#### 22년도에 가입한 고객만을 대상으로 하는 재구매율은 어떠한가? "
   ]
  },
  {
   "cell_type": "code",
   "execution_count": 30,
   "id": "7bbe5012",
   "metadata": {
    "ExecuteTime": {
     "end_time": "2023-03-28T04:22:32.004266Z",
     "start_time": "2023-03-28T04:22:17.395945Z"
    },
    "scrolled": true
   },
   "outputs": [
    {
     "name": "stdout",
     "output_type": "stream",
     "text": [
      "+---------------+\n",
      "|Total_customers|\n",
      "+---------------+\n",
      "|          14360|\n",
      "+---------------+\n",
      "\n",
      "+-----------------------+\n",
      "|Total_reorder_customers|\n",
      "+-----------------------+\n",
      "|                   5912|\n",
      "+-----------------------+\n",
      "\n"
     ]
    }
   ],
   "source": [
    "# 1. TOTAL # OF CUSTOMERS WHO JOIN IN 2022\n",
    "customer.createOrReplaceTempView('customer')\n",
    "transaction.createOrReplaceTempView('transaction')\n",
    "\n",
    "spark.sql(\"\"\" SELECT COUNT(DISTINCT customer_id) Total_customers\n",
    "                FROM customer\n",
    "                WHERE YEAR(first_join_date) == 2022\"\"\").show()\n",
    "\n",
    "# 2. Reorder customers (2022)\n",
    "spark.sql(\"\"\"SELECT COUNT(DISTINCT c.customer_id) Total_reorder_customers\n",
    "             FROM customer c\n",
    "             INNER JOIN transaction t\n",
    "             ON c.customer_id = t.customer_id\n",
    "             WHERE YEAR(t.created_at) >= 2022\n",
    "             AND YEAR(c.first_join_date) == 2022\"\"\").show()"
   ]
  },
  {
   "cell_type": "code",
   "execution_count": 31,
   "id": "aaec9909",
   "metadata": {
    "ExecuteTime": {
     "end_time": "2023-03-28T04:22:32.020403Z",
     "start_time": "2023-03-28T04:22:32.009269Z"
    }
   },
   "outputs": [
    {
     "name": "stdout",
     "output_type": "stream",
     "text": [
      "Repeat order rate(2022): 41.17%\n"
     ]
    }
   ],
   "source": [
    "# 3. Reorder rate\n",
    "print(f'Repeat order rate(2022): {round(5912 / 14360 * 100, 2)}%')"
   ]
  },
  {
   "cell_type": "markdown",
   "id": "5b589d9f",
   "metadata": {},
   "source": [
    "2022년도 고객만을 대상으로 하는 재구매율은 xx%로 ~~ 유형에 속한다는 것을 알 수 있다."
   ]
  },
  {
   "cell_type": "markdown",
   "id": "a5ef7677",
   "metadata": {},
   "source": [
    "#### 2022년 평균 DAU, MAU\n",
    "- 데이터 한계 상 로그데이터에서 유저의 로그인 여부는 알 수 없다.\n",
    "- 로그 상에서 Active user의 개수는 세션id의 개수로 정의한다.\n",
    "- 즉, 겁나 뻥튀기된 값이라는 것...\n",
    "- 그런데 실무에서도 이렇게 뻥튀기 된 값을 쓴다고 한다. 애초에 완벽하게 비로그인 유저의 수를 세는 것도 웹에서는 불가능 한 듯"
   ]
  },
  {
   "cell_type": "code",
   "execution_count": 32,
   "id": "70705ea0",
   "metadata": {
    "ExecuteTime": {
     "end_time": "2023-03-28T04:22:32.035625Z",
     "start_time": "2023-03-28T04:22:32.027265Z"
    }
   },
   "outputs": [],
   "source": [
    "# 2022 7월 평균 DAU 계산하기\n",
    "query = \"\"\"\n",
    "SELECT \n",
    "    DATE(event_time), COUNT(session_id)\n",
    "FROM \n",
    "    click_stream\n",
    "WHERE \n",
    "    YEAR(event_time)==2022\n",
    "AND \n",
    "    MONTH(event_time)==7\n",
    "GROUP BY \n",
    "    DATE(event_time)\n",
    "ORDER BY \n",
    "    DATE(event_time) DESC\n",
    "\"\"\""
   ]
  },
  {
   "cell_type": "code",
   "execution_count": 33,
   "id": "761d2e2f",
   "metadata": {
    "ExecuteTime": {
     "end_time": "2023-03-28T04:23:56.780336Z",
     "start_time": "2023-03-28T04:22:32.042267Z"
    }
   },
   "outputs": [
    {
     "name": "stdout",
     "output_type": "stream",
     "text": [
      "+----------+-----------------+\n",
      "|event_time|count(session_id)|\n",
      "+----------+-----------------+\n",
      "|2022-07-31|            14139|\n",
      "|2022-07-30|             8542|\n",
      "|2022-07-29|             8261|\n",
      "|2022-07-28|            10540|\n",
      "|2022-07-27|            10744|\n",
      "|2022-07-26|            13957|\n",
      "|2022-07-25|            14116|\n",
      "|2022-07-24|            12919|\n",
      "|2022-07-23|            11023|\n",
      "|2022-07-22|            11694|\n",
      "|2022-07-21|            12749|\n",
      "|2022-07-20|            13424|\n",
      "|2022-07-19|            13679|\n",
      "|2022-07-18|            15634|\n",
      "|2022-07-17|            15571|\n",
      "|2022-07-16|            13052|\n",
      "|2022-07-15|            13295|\n",
      "|2022-07-14|            12946|\n",
      "|2022-07-13|            12959|\n",
      "|2022-07-12|            14240|\n",
      "+----------+-----------------+\n",
      "only showing top 20 rows\n",
      "\n"
     ]
    }
   ],
   "source": [
    "spark.sql(query).show()"
   ]
  },
  {
   "cell_type": "markdown",
   "id": "38745ecf",
   "metadata": {},
   "source": [
    "### 분석 2: 이탈률"
   ]
  },
  {
   "cell_type": "code",
   "execution_count": null,
   "id": "7e12295d",
   "metadata": {},
   "outputs": [],
   "source": []
  },
  {
   "cell_type": "markdown",
   "id": "ef8c20a4",
   "metadata": {},
   "source": [
    "## 결론"
   ]
  }
 ],
 "metadata": {
  "kernelspec": {
   "display_name": "pyspark",
   "language": "python",
   "name": "pyspark"
  },
  "language_info": {
   "codemirror_mode": {
    "name": "ipython",
    "version": 3
   },
   "file_extension": ".py",
   "mimetype": "text/x-python",
   "name": "python",
   "nbconvert_exporter": "python",
   "pygments_lexer": "ipython3",
   "version": "3.10.9"
  },
  "toc": {
   "base_numbering": 1,
   "nav_menu": {
    "height": "218.523px",
    "width": "297.42px"
   },
   "number_sections": true,
   "sideBar": true,
   "skip_h1_title": true,
   "title_cell": "Table of Contents",
   "title_sidebar": "Contents",
   "toc_cell": false,
   "toc_position": {
    "height": "calc(100% - 180px)",
    "left": "10px",
    "top": "150px",
    "width": "279.273px"
   },
   "toc_section_display": true,
   "toc_window_display": true
  }
 },
 "nbformat": 4,
 "nbformat_minor": 5
}
